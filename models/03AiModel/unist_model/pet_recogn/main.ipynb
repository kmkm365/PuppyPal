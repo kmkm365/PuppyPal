{
 "metadata": {
  "language_info": {
   "codemirror_mode": {
    "name": "ipython",
    "version": 3
   },
   "file_extension": ".py",
   "mimetype": "text/x-python",
   "name": "python",
   "nbconvert_exporter": "python",
   "pygments_lexer": "ipython3",
   "version": "3.7.10-final"
  },
  "orig_nbformat": 2,
  "kernelspec": {
   "name": "python3",
   "display_name": "Python 3",
   "language": "python"
  }
 },
 "nbformat": 4,
 "nbformat_minor": 2,
 "cells": [
  {
   "cell_type": "code",
   "execution_count": null,
   "metadata": {},
   "outputs": [],
   "source": [
    "import dlcmm"
   ]
  },
  {
   "cell_type": "code",
   "execution_count": null,
   "metadata": {
    "tags": []
   },
   "outputs": [],
   "source": [
    "dlcmm.skeleton_train('cat', './model/trained_model')\n",
    "dlcmm.skeleton_train('dog', './model/trained_model')"
   ]
  },
  {
   "cell_type": "code",
   "execution_count": 12,
   "metadata": {},
   "outputs": [
    {
     "output_type": "stream",
     "name": "stdout",
     "text": [
      "[>>>>>>>>>>>>>>>>>>>>>>>>>>>>>>>>>>>] 1/1, 2.4 task/s, elapsed: 0s, ETA:     0s"
     ]
    },
    {
     "output_type": "execute_result",
     "data": {
      "text/plain": [
       "{'bodylower': '52.85240411758423%',\n",
       " 'feetup': '47.928833961486816%',\n",
       " 'footup': '36.418747901916504%',\n",
       " 'sit': '33.142682909965515%',\n",
       " 'turn': '24.02237355709076%',\n",
       " 'mounting': '19.9908509850502%',\n",
       " 'heading': '-1.384258083999157%',\n",
       " 'bodyscratch': '-3.754926100373268%',\n",
       " 'tailing': '-17.7694633603096%',\n",
       " 'bodyshake': '-21.188493072986603%',\n",
       " 'walkrun': '-32.84443020820618%',\n",
       " 'taillow': '-49.26886558532715%',\n",
       " 'lying': '-71.08715772628784%'}"
      ]
     },
     "metadata": {},
     "execution_count": 12
    }
   ],
   "source": [
    "dlcmm.skeleton_test('dog', './model/trained_model')"
   ]
  },
  {
   "cell_type": "code",
   "execution_count": null,
   "metadata": {},
   "outputs": [],
   "source": []
  }
 ]
}