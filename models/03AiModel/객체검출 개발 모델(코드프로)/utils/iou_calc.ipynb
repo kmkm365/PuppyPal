{
 "metadata": {
  "language_info": {
   "codemirror_mode": {
    "name": "ipython",
    "version": 3
   },
   "file_extension": ".py",
   "mimetype": "text/x-python",
   "name": "python",
   "nbconvert_exporter": "python",
   "pygments_lexer": "ipython3",
   "version": "3.7.9-final"
  },
  "orig_nbformat": 2,
  "kernelspec": {
   "name": "python3",
   "display_name": "Python 3.7.9 64-bit ('open-mmlab': conda)",
   "metadata": {
    "interpreter": {
     "hash": "e52d3bc8c6aa66d7a48b007dc71d48d3f773780a6e5c3f207190ea313c154e08"
    }
   }
  }
 },
 "nbformat": 4,
 "nbformat_minor": 2,
 "cells": [
  {
   "cell_type": "code",
   "execution_count": 6,
   "metadata": {},
   "outputs": [
    {
     "output_type": "stream",
     "name": "stdout",
     "text": [
      "0.9731985378835893\n"
     ]
    }
   ],
   "source": [
    "# 1 0.548611 0.462500 0.584259 0.923148\n",
    "\n",
    "#cat-armstretch-001283 prediction\n",
    "# 1 0.548611 0.4625 0.584259 0.923148 1\n",
    "# 1 0.430078 0.470313 0.417578 0.9 0.747439\n",
    "\n",
    "# gt 0.599479 0.413426 0.397917 0.610185\n",
    "# pre 0.599479 0.413426 0.397917 0.610185 1\n",
    "gt = [0.376042, 0.491319, 0.750694, 0.582639]\n",
    "predict = [0.387109, 0.493359, 0.769922, 0.586328]\n",
    "def bb_intersection_over_union(boxA, boxB):\n",
    "\t# determine the (x, y)-coordinates of the intersection rectangle\n",
    "\txA = max(boxA[0], boxB[0])\n",
    "\tyA = max(boxA[1], boxB[1])\n",
    "\txB = min(boxA[2], boxB[2])\n",
    "\tyB = min(boxA[3], boxB[3])\n",
    "\t# compute the area of intersection rectangle\n",
    "\tinterArea = max(0, xB - xA + 1) * max(0, yB - yA + 1)\n",
    "\t# compute the area of both the prediction and ground-truth\n",
    "\t# rectangles\n",
    "\tboxAArea = (boxA[2] - boxA[0] + 1) * (boxA[3] - boxA[1] + 1)\n",
    "\tboxBArea = (boxB[2] - boxB[0] + 1) * (boxB[3] - boxB[1] + 1)\n",
    "\t# compute the intersection over union by taking the intersection\n",
    "\t# area and dividing it by the sum of prediction + ground-truth\n",
    "\t# areas - the interesection area\n",
    "\tiou = interArea / float(boxAArea + boxBArea - interArea)\n",
    "\t# return the intersection over union value\n",
    "\treturn iou\n",
    "print(bb_intersection_over_union(gt, predict\n",
    "))"
   ]
  },
  {
   "cell_type": "code",
   "execution_count": null,
   "metadata": {},
   "outputs": [],
   "source": []
  }
 ]
}